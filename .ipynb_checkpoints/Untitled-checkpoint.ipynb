{
 "cells": [
  {
   "cell_type": "code",
   "execution_count": 32,
   "id": "7cfcfa6a",
   "metadata": {},
   "outputs": [
    {
     "data": {
      "text/plain": [
       "'763104351884.dkr.ecr.us-east-1.amazonaws.com/tensorflow-inference:2.12.1-cpu'"
      ]
     },
     "execution_count": 32,
     "metadata": {},
     "output_type": "execute_result"
    }
   ],
   "source": [
    "import scipy.sparse\n",
    "from sagemaker import image_uris\n",
    "image_uris.retrieve(framework='tensorflow',region='us-east-1',version='2.12.1',image_scope='inference',instance_type='ml.c5.4xlarge')"
   ]
  },
  {
   "cell_type": "code",
   "execution_count": null,
   "id": "9173ff4a",
   "metadata": {},
   "outputs": [],
   "source": [
    "!aws ecr get-login-password --region us-east-1 | docker login --username AWS --password-stdin 520713654638.dkr.ecr.us-east-1.amazonaws.com"
   ]
  },
  {
   "cell_type": "code",
   "execution_count": null,
   "id": "c29a301e",
   "metadata": {},
   "outputs": [],
   "source": [
    "!docker pull 520713654638.dkr.ecr.us-east-1.amazonaws.com/sagemaker-tensorflow-serving:1.12.0-cpu"
   ]
  },
  {
   "cell_type": "code",
   "execution_count": 18,
   "id": "013afc9a",
   "metadata": {},
   "outputs": [
    {
     "data": {
      "text/plain": [
       "'763104351884.dkr.ecr.us-east-1.amazonaws.com/tensorflow-training:2.12.0-cpu-py310'"
      ]
     },
     "execution_count": 18,
     "metadata": {},
     "output_type": "execute_result"
    }
   ],
   "source": [
    "import scipy.sparse\n",
    "from sagemaker import image_uris\n",
    "image_uris.retrieve(framework='tensorflow',region='us-east-1',version='2.12.0',image_scope='training',instance_type='ml.c5.4xlarge')"
   ]
  },
  {
   "cell_type": "code",
   "execution_count": null,
   "id": "87d60274",
   "metadata": {},
   "outputs": [],
   "source": [
    "!aws ecr get-login-password --region us-east-1 | docker login --username AWS --password-stdin  763104351884.dkr.ecr.us-east-1.amazonaws.com"
   ]
  },
  {
   "cell_type": "code",
   "execution_count": null,
   "id": "e9d35ef8",
   "metadata": {},
   "outputs": [],
   "source": [
    "!docker images"
   ]
  },
  {
   "cell_type": "code",
   "execution_count": 33,
   "id": "3e46284f",
   "metadata": {},
   "outputs": [
    {
     "name": "stdout",
     "output_type": "stream",
     "text": [
      "\u001b[1A\u001b[1B\u001b[0G\u001b[?25l[+] Building 0.0s (0/1)                                          docker:default\n",
      "\u001b[?25h\u001b[1A\u001b[0G\u001b[?25l[+] Building 0.1s (2/2) FINISHED                                 docker:default\n",
      "\u001b[34m => [internal] load build definition from Dockerfile.train                 0.0s\n",
      "\u001b[0m\u001b[34m => => transferring dockerfile: 248B                                       0.0s\n",
      "\u001b[0m\u001b[31m => ERROR [internal] load metadata for 763104351884.dkr.ecr.us-east-1.ama  0.0s\n",
      "\u001b[0m\u001b[?25h------\n",
      " > [internal] load metadata for 763104351884.dkr.ecr.us-east-1.amazonaws.com/tensorflow-training:2.12.0-cpu-py310:\n",
      "------\n",
      "Dockerfile.train:1\n",
      "--------------------\n",
      "   1 | >>> FROM 763104351884.dkr.ecr.us-east-1.amazonaws.com/tensorflow-training:2.12.0-cpu-py310\n",
      "   2 |     \n",
      "   3 |     RUN pip install pandas scikit-learn numpy joblib\n",
      "--------------------\n",
      "ERROR: failed to solve: 763104351884.dkr.ecr.us-east-1.amazonaws.com/tensorflow-training:2.12.0-cpu-py310: unexpected status from HEAD request to https://763104351884.dkr.ecr.us-east-1.amazonaws.com/v2/tensorflow-training/manifests/2.12.0-cpu-py310: 401 Unauthorized\n"
     ]
    }
   ],
   "source": [
    "!docker build -t 715867985850.dkr.ecr.us-east-1.amazonaws.com/tensorflow-training:2.12.0-cpu-py310-pippo -f Dockerfile.train ."
   ]
  },
  {
   "cell_type": "code",
   "execution_count": null,
   "id": "7636ac87",
   "metadata": {},
   "outputs": [],
   "source": [
    "!docker images"
   ]
  },
  {
   "cell_type": "code",
   "execution_count": null,
   "id": "22ae0e74",
   "metadata": {},
   "outputs": [],
   "source": [
    "from sagemaker import get_execution_role\n",
    "from sagemaker.estimator import Estimator\n",
    "import os\n",
    "\n",
    "role=get_execution_role()\n",
    "\n",
    "hyperparameters={'epochs': 1}\n",
    "\n",
    "estimator=Estimator(\n",
    "    image_uri='715867985850.dkr.ecr.us-east-1.amazonaws.com/tensorflow-training:2.12.0-cpu-py310-pippo',\n",
    "    role=role,\n",
    "    instance_count=1,\n",
    "    instance_type='local',\n",
    "    hyperparameters=hyperparameters,\n",
    "    output_path='file://{}/data/output'.format(os.getcwd())\n",
    ")\n",
    "\n",
    "print('##### ESTIMATOR FIT STARTED')\n",
    "estimator.fit('file://{}/data/input/house_price_regression_dataset.csv'.format(os.getcwd()))\n",
    "print('##### ESTIMATOR FIT COMPLETED')"
   ]
  },
  {
   "cell_type": "code",
   "execution_count": null,
   "id": "ef6c9899",
   "metadata": {},
   "outputs": [],
   "source": [
    "!tar -xzf data/output/output.tar.gz"
   ]
  },
  {
   "cell_type": "code",
   "execution_count": null,
   "id": "dc5db33c",
   "metadata": {},
   "outputs": [],
   "source": [
    "!tar -xzf ./data/output/model.tar.gz"
   ]
  },
  {
   "cell_type": "code",
   "execution_count": null,
   "id": "c3ef49fc",
   "metadata": {},
   "outputs": [],
   "source": [
    "!SM_MODEL_DIR=\"./data/output\" python main.py"
   ]
  },
  {
   "cell_type": "code",
   "execution_count": null,
   "id": "466c6beb",
   "metadata": {},
   "outputs": [],
   "source": [
    "os.getcwd()"
   ]
  },
  {
   "cell_type": "code",
   "execution_count": null,
   "id": "28894e43",
   "metadata": {},
   "outputs": [],
   "source": [
    "%%sh\n",
    "# Specify an image name\n",
    "image_name=tensorflow-training\n",
    "echo \"image_name: ${image_name} ######################\"\n",
    "\n",
    "account=$(aws sts get-caller-identity --query Account --output text)\n",
    "echo \"account: ${account} ######################\"\n",
    "\n",
    "# Get the region defined in the current configuration (default to us-west-2 if none defined)\n",
    "region=$(aws configure get region)\n",
    "echo \"region: ${region} ######################\"\n",
    "\n",
    "fullname=\"${account}.dkr.ecr.${region}.amazonaws.com/${image_name}:2.12.0-cpu-py310-pippo\"\n",
    "echo \"fullname: ${fullname} ######################\"\n",
    "aws ecr create-repository --repository-name \"${image_name}\""
   ]
  },
  {
   "cell_type": "code",
   "execution_count": null,
   "id": "a3137aab",
   "metadata": {},
   "outputs": [],
   "source": [
    "!aws ecr get-login-password --region us-east-1 | docker login --username AWS --password-stdin  715867985850.dkr.ecr.us-east-1.amazonaws.com"
   ]
  },
  {
   "cell_type": "code",
   "execution_count": null,
   "id": "82d65232",
   "metadata": {},
   "outputs": [],
   "source": [
    "!docker images"
   ]
  },
  {
   "cell_type": "code",
   "execution_count": null,
   "id": "90654e40",
   "metadata": {},
   "outputs": [],
   "source": [
    "!docker tag tensorflow-training:2.12.0-cpu-py310-pippo 715867985850.dkr.ecr.us-east-1.amazonaws.com/tensorflow-training:2.12.0-cpu-py310-pippo"
   ]
  },
  {
   "cell_type": "code",
   "execution_count": null,
   "id": "e4c538e4",
   "metadata": {},
   "outputs": [],
   "source": [
    "!docker images"
   ]
  },
  {
   "cell_type": "code",
   "execution_count": 54,
   "id": "6c423631",
   "metadata": {},
   "outputs": [
    {
     "name": "stdout",
     "output_type": "stream",
     "text": [
      "The push refers to repository [715867985850.dkr.ecr.us-east-1.amazonaws.com/tensorflow-training]\n",
      "\n",
      "\u001b[1B9cfa49c1: Preparing \n",
      "\u001b[1B1ca84c47: Preparing \n",
      "\u001b[1B22878ecf: Preparing \n",
      "\u001b[1Bdb4f6696: Preparing \n",
      "\u001b[1Bf529ae49: Preparing \n",
      "\u001b[1B75f13e59: Preparing \n",
      "\u001b[1B0c6c24f9: Preparing \n",
      "\u001b[1Ba1e64371: Preparing \n",
      "\u001b[1B29631b13: Preparing \n",
      "\u001b[1B3f03efd0: Preparing \n",
      "\u001b[1B9b75d5ee: Preparing \n",
      "\u001b[1B370de786: Preparing \n",
      "\u001b[1Ba16f1a7a: Preparing \n",
      "\u001b[1Bfc8740d1: Preparing \n",
      "\u001b[1B292691fc: Preparing \n",
      "\u001b[1B6672bf9d: Preparing \n",
      "\u001b[1B607be3da: Preparing \n",
      "\u001b[1Bafc9b360: Preparing \n",
      "\u001b[1Bf934e4df: Preparing \n",
      "\u001b[1B80a2a6eb: Preparing \n",
      "\u001b[1Ba0538fa4: Preparing \n",
      "\u001b[1B6d109c54: Preparing \n",
      "\u001b[1Bf0a068df: Preparing \n",
      "\u001b[1B443b7673: Preparing \n",
      "\u001b[1B37a36861: Preparing \n",
      "\u001b[1Becb4bd81: Preparing \n",
      "\u001b[1B34b60c81: Preparing \n",
      "\u001b[1B07d5d0ab: Preparing \n",
      "\u001b[1Be6c8e003: Preparing \n",
      "\u001b[1Bab822c1c: Preparing \n",
      "\u001b[1B3609315f: Preparing \n",
      "\u001b[11Bd109c54: Layer already exists 8kB9A\u001b[2K\u001b[32A\u001b[2K\u001b[23A\u001b[2K\u001b[20A\u001b[2K\u001b[16A\u001b[2K\u001b[12A\u001b[2K\u001b[8A\u001b[2K\u001b[4A\u001b[2K\u001b[1A\u001b[2K\u001b[11A\u001b[2K2.12.0-cpu-py310-pippo: digest: sha256:34ea846da662df47ec75268afb0c4073ff9db1be98ad5ce81c836efd54befb4d size: 7040\n"
     ]
    }
   ],
   "source": [
    "!docker push 715867985850.dkr.ecr.us-east-1.amazonaws.com/tensorflow-training:2.12.0-cpu-py310-pippo"
   ]
  },
  {
   "cell_type": "code",
   "execution_count": null,
   "id": "c3f44b2e",
   "metadata": {},
   "outputs": [],
   "source": [
    "from sagemaker import get_execution_role\n",
    "from sagemaker.estimator import Estimator\n",
    "import os\n",
    "\n",
    "role=get_execution_role()\n",
    "\n",
    "hyperparameters={'epochs': 1}\n",
    "\n",
    "estimator=Estimator(\n",
    "    image_uri='715867985850.dkr.ecr.us-east-1.amazonaws.com/tensorflow-training:2.12.0-cpu-py310-pippo',\n",
    "    role=role,\n",
    "    instance_count=1,\n",
    "    instance_type='ml.p2.xlarge',\n",
    "    hyperparameters=hyperparameters,\n",
    "    output_path='s3://itfilippoconsole/data/output'\n",
    ")\n",
    "\n",
    "print('##### ESTIMATOR FIT STARTED')\n",
    "estimator.fit('s3://itfilippoconsole/data/input/house_price_regression_dataset.csv')\n",
    "print('##### ESTIMATOR FIT COMPLETED')"
   ]
  },
  {
   "cell_type": "code",
   "execution_count": 1,
   "id": "d90b3456",
   "metadata": {},
   "outputs": [
    {
     "name": "stdout",
     "output_type": "stream",
     "text": [
      "tar: Ignoring unknown extended header keyword `LIBARCHIVE.creationtime'\n"
     ]
    }
   ],
   "source": [
    "!tar -xzf model.tar.gz"
   ]
  },
  {
   "cell_type": "code",
   "execution_count": null,
   "id": "ece490fa",
   "metadata": {},
   "outputs": [],
   "source": [
    "!pip install tensorflow keras "
   ]
  },
  {
   "cell_type": "code",
   "execution_count": null,
   "id": "505c40f1",
   "metadata": {},
   "outputs": [],
   "source": [
    "!pip freeze"
   ]
  },
  {
   "cell_type": "code",
   "execution_count": 4,
   "id": "38e93b0b",
   "metadata": {},
   "outputs": [
    {
     "name": "stderr",
     "output_type": "stream",
     "text": [
      "2024-11-05 13:10:45.794361: E external/local_xla/xla/stream_executor/cuda/cuda_fft.cc:477] Unable to register cuFFT factory: Attempting to register factory for plugin cuFFT when one has already been registered\n",
      "WARNING: All log messages before absl::InitializeLog() is called are written to STDERR\n",
      "E0000 00:00:1730812245.817372   13736 cuda_dnn.cc:8310] Unable to register cuDNN factory: Attempting to register factory for plugin cuDNN when one has already been registered\n",
      "E0000 00:00:1730812245.824368   13736 cuda_blas.cc:1418] Unable to register cuBLAS factory: Attempting to register factory for plugin cuBLAS when one has already been registered\n",
      "2024-11-05 13:10:45.848210: I tensorflow/core/platform/cpu_feature_guard.cc:210] This TensorFlow binary is optimized to use available CPU instructions in performance-critical operations.\n",
      "To enable the following instructions: AVX2 FMA, in other operations, rebuild TensorFlow with the appropriate compiler flags.\n"
     ]
    }
   ],
   "source": [
    "from keras.saving import load_model"
   ]
  },
  {
   "cell_type": "code",
   "execution_count": 6,
   "id": "f3e37eca",
   "metadata": {},
   "outputs": [
    {
     "name": "stderr",
     "output_type": "stream",
     "text": [
      "2024-11-05 13:13:53.788240: E external/local_xla/xla/stream_executor/cuda/cuda_driver.cc:152] failed call to cuInit: INTERNAL: CUDA error: Failed call to cuInit: CUDA_ERROR_NO_DEVICE: no CUDA-capable device is detected\n"
     ]
    }
   ],
   "source": [
    "from keras import models\n",
    "model = models.load_model(\"abalone_model.keras\")"
   ]
  },
  {
   "cell_type": "code",
   "execution_count": 9,
   "id": "67ce1fec",
   "metadata": {},
   "outputs": [],
   "source": [
    "import numpy as np\n",
    "predict_input=np.array([[0.475,0.37,0.125,0.5095,0.2165,0.1125,0.165,9]])"
   ]
  },
  {
   "cell_type": "code",
   "execution_count": 14,
   "id": "aecfc069",
   "metadata": {},
   "outputs": [
    {
     "name": "stdout",
     "output_type": "stream",
     "text": [
      "\u001b[1m1/1\u001b[0m \u001b[32m━━━━━━━━━━━━━━━━━━━━\u001b[0m\u001b[37m\u001b[0m \u001b[1m0s\u001b[0m 18ms/step\n"
     ]
    }
   ],
   "source": [
    "predict_result = model.predict(predict_input)"
   ]
  },
  {
   "cell_type": "code",
   "execution_count": 15,
   "id": "d415b9dd",
   "metadata": {},
   "outputs": [
    {
     "data": {
      "text/plain": [
       "'{\"predict_result\": [[0.0]]}'"
      ]
     },
     "execution_count": 15,
     "metadata": {},
     "output_type": "execute_result"
    }
   ],
   "source": [
    "import json\n",
    "json.dumps({\"predict_result\": predict_result.tolist()})"
   ]
  },
  {
   "cell_type": "code",
   "execution_count": 19,
   "id": "d913865b",
   "metadata": {},
   "outputs": [
    {
     "name": "stdout",
     "output_type": "stream",
     "text": [
      "image_name: tensorflow-inference ######################\n",
      "account: 715867985850 ######################\n",
      "region: us-east-1 ######################\n",
      "fullname: 715867985850.dkr.ecr.us-east-1.amazonaws.com/tensorflow-inference:2.12.0-cpu-py310-pluto-2 ######################\n"
     ]
    },
    {
     "name": "stderr",
     "output_type": "stream",
     "text": [
      "\n",
      "An error occurred (RepositoryNotFoundException) when calling the DescribeRepositories operation: The repository with name 'tensorflow-inference' does not exist in the registry with id '715867985850'\n"
     ]
    },
    {
     "name": "stdout",
     "output_type": "stream",
     "text": [
      "{\n",
      "    \"repository\": {\n",
      "        \"repositoryArn\": \"arn:aws:ecr:us-east-1:715867985850:repository/tensorflow-inference\",\n",
      "        \"registryId\": \"715867985850\",\n",
      "        \"repositoryName\": \"tensorflow-inference\",\n",
      "        \"repositoryUri\": \"715867985850.dkr.ecr.us-east-1.amazonaws.com/tensorflow-inference\",\n",
      "        \"createdAt\": 1730815832.311,\n",
      "        \"imageTagMutability\": \"MUTABLE\",\n",
      "        \"imageScanningConfiguration\": {\n",
      "            \"scanOnPush\": false\n",
      "        },\n",
      "        \"encryptionConfiguration\": {\n",
      "            \"encryptionType\": \"AES256\"\n",
      "        }\n",
      "    }\n",
      "}\n"
     ]
    }
   ],
   "source": [
    "%%sh\n",
    "# Specify an image name\n",
    "image_name=tensorflow-inference\n",
    "echo \"image_name: ${image_name} ######################\"\n",
    "\n",
    "account=$(aws sts get-caller-identity --query Account --output text)\n",
    "echo \"account: ${account} ######################\"\n",
    "\n",
    "# Get the region defined in the current configuration (default to us-west-2 if none defined)\n",
    "region=$(aws configure get region)\n",
    "echo \"region: ${region} ######################\"\n",
    "\n",
    "fullname=\"${account}.dkr.ecr.${region}.amazonaws.com/${image_name}:2.12.0-cpu-py310-pluto-2\"\n",
    "echo \"fullname: ${fullname} ######################\"\n",
    "\n",
    "aws ecr describe-repositories --repository-names \"${image_name}\"\n",
    "if [ $? -ne 0 ]\n",
    "then\n",
    "aws ecr create-repository --repository-name \"${image_name}\"\n",
    "fi"
   ]
  },
  {
   "cell_type": "code",
   "execution_count": 35,
   "id": "344e2487",
   "metadata": {},
   "outputs": [
    {
     "name": "stdout",
     "output_type": "stream",
     "text": [
      "WARNING! Your password will be stored unencrypted in /home/ec2-user/.docker/config.json.\n",
      "Configure a credential helper to remove this warning. See\n",
      "https://docs.docker.com/engine/reference/commandline/login/#credentials-store\n",
      "\n",
      "Login Succeeded\n"
     ]
    }
   ],
   "source": [
    "!aws ecr get-login-password --region us-east-1 | docker login --username AWS --password-stdin 763104351884.dkr.ecr.us-east-1.amazonaws.com"
   ]
  },
  {
   "cell_type": "code",
   "execution_count": null,
   "id": "8749a3f3",
   "metadata": {},
   "outputs": [],
   "source": [
    "!docker build -t 715867985850.dkr.ecr.us-east-1.amazonaws.com/tensorflow-inference:mondo -f Dockerfile.inference ."
   ]
  },
  {
   "cell_type": "code",
   "execution_count": 25,
   "id": "6a2f885e",
   "metadata": {},
   "outputs": [
    {
     "name": "stdout",
     "output_type": "stream",
     "text": [
      "REPOSITORY                                                          TAG       IMAGE ID       CREATED       SIZE\n",
      "715867985850.dkr.ecr.us-east-1.amazonaws.com/tensorflow-inference   mondo     6c4e927c7041   5 years ago   377MB\n"
     ]
    }
   ],
   "source": [
    "!docker images"
   ]
  },
  {
   "cell_type": "code",
   "execution_count": 41,
   "id": "dc5ad82f",
   "metadata": {},
   "outputs": [
    {
     "name": "stdout",
     "output_type": "stream",
     "text": [
      "The push refers to repository [715867985850.dkr.ecr.us-east-1.amazonaws.com/tensorflow-inference]\n",
      "\n",
      "\u001b[1B9544b12a: Preparing \n",
      "\u001b[1Bb848dda8: Preparing \n",
      "\u001b[1Bcf559d56: Preparing \n",
      "\u001b[1B37bf1d61: Preparing \n",
      "\u001b[1B8df97c44: Preparing \n",
      "\u001b[1B764747b4: Preparing \n",
      "\u001b[1B1a68f579: Preparing \n",
      "\u001b[1B2eef5eea: Preparing \n",
      "\u001b[1Bb5bcc575: Preparing \n",
      "\u001b[1B5e5ce62f: Preparing \n",
      "\u001b[1B757a305d: Preparing \n",
      "\u001b[1Bc7cf6f28: Preparing \n",
      "\u001b[1B30092134: Preparing \n",
      "\u001b[1Bfb153852: Preparing \n",
      "\u001b[1B0903db8c: Preparing \n",
      "\u001b[1B19dec72a: Preparing \n",
      "\u001b[1Bdf04f233: Preparing \n",
      "\u001b[1Bf2dbc490: Preparing \n",
      "\u001b[1Bba0431f9: Preparing \n",
      "\u001b[1B71536788: Preparing \n",
      "\u001b[1B994107ae: Preparing \n",
      "\u001b[1B3a4f83e7: Preparing \n",
      "\u001b[1Bd6748243: Preparing \n",
      "\u001b[1Bf2c1e372: Preparing \n",
      "\u001b[1Bcd2b5d6d: Preparing \n",
      "\u001b[26B544b12a: Pushed lready exists \u001b[20A\u001b[2K\u001b[19A\u001b[2K\u001b[14A\u001b[2K\u001b[10A\u001b[2K\u001b[6A\u001b[2K\u001b[2A\u001b[2K\u001b[26A\u001b[2Kmondo: digest: sha256:828c0f47940c0719e828a07010cd29d10561cfdbf9339aeeae41bb965c3dabdb size: 5765\n"
     ]
    }
   ],
   "source": [
    "!docker push 715867985850.dkr.ecr.us-east-1.amazonaws.com/tensorflow-inference:mondo"
   ]
  },
  {
   "cell_type": "code",
   "execution_count": 27,
   "id": "c113687c",
   "metadata": {},
   "outputs": [
    {
     "name": "stdout",
     "output_type": "stream",
     "text": [
      "WARNING! Your password will be stored unencrypted in /home/ec2-user/.docker/config.json.\n",
      "Configure a credential helper to remove this warning. See\n",
      "https://docs.docker.com/engine/reference/commandline/login/#credentials-store\n",
      "\n",
      "Login Succeeded\n"
     ]
    }
   ],
   "source": [
    "!aws ecr get-login-password --region us-east-1 | docker login --username AWS --password-stdin 715867985850.dkr.ecr.us-east-1.amazonaws.com"
   ]
  },
  {
   "cell_type": "code",
   "execution_count": 42,
   "id": "b9ae2c7c",
   "metadata": {},
   "outputs": [],
   "source": [
    "from sagemaker import get_execution_role\n",
    "import boto3\n",
    "import datetime\n",
    "from time import gmtime, strftime\n",
    "\n",
    "# https://docs.aws.amazon.com/sagemaker/latest/dg/realtime-endpoints-deployment.html\n",
    "\n",
    "#Set up autenticazione\n",
    "my_session = boto3.session.Session()\n",
    "aws_region = my_session.region_name\n",
    "sagemaker_client = boto3.client('sagemaker', region_name=aws_region)\n",
    "sagemaker_role = get_execution_role()\n",
    "\n",
    "model_name = 'Il-top'\n",
    "\n",
    "# Create model\n",
    "create_model_response = sagemaker_client.create_model(\n",
    "    ModelName = model_name,\n",
    "    ExecutionRoleArn = sagemaker_role,\n",
    "    PrimaryContainer = {\n",
    "        'Image': '715867985850.dkr.ecr.us-east-1.amazonaws.com/tensorflow-inference:mondo',\n",
    "        'ModelDataUrl': 's3://trainjob/data/output/training_job-2024-11-05-14-05-20/output/model(3).tar.gz',\n",
    "    })\n",
    "\n"
   ]
  },
  {
   "cell_type": "code",
   "execution_count": 43,
   "id": "37e8dada",
   "metadata": {},
   "outputs": [
    {
     "name": "stdout",
     "output_type": "stream",
     "text": [
      "Created EndpointConfig: arn:aws:sagemaker:us-east-1:715867985850:endpoint-config/la-mia-prima-api-inferenza-config\n"
     ]
    }
   ],
   "source": [
    "# Create an endpoint config name. Here we create one based on the date  \n",
    "# so it we can search endpoints based on creation time.\n",
    "endpoint_config_name = 'la-mia-prima-api-inferenza-config'\n",
    "\n",
    "instance_type = 'ml.p2.xlarge'\n",
    "\n",
    "endpoint_config_response = sagemaker_client.create_endpoint_config(\n",
    "    EndpointConfigName=endpoint_config_name,\n",
    "    # You will specify this name in a CreateEndpoint request.\n",
    "    # List of ProductionVariant objects, one for each model that you want to host at this endpoint.\n",
    "    ProductionVariants=[\n",
    "        {\n",
    "            \"VariantName\": \"variant1\", # The name of the production variant.\n",
    "            \"ModelName\": model_name,\n",
    "            \"InstanceType\": instance_type, # Specify the compute instance type.\n",
    "            \"InitialInstanceCount\": 1 # Number of instances to launch initially.\n",
    "        }\n",
    "    ]\n",
    ")\n",
    "\n",
    "print(f\"Created EndpointConfig: {endpoint_config_response['EndpointConfigArn']}\")\n",
    "\n",
    "# The name of the endpoint. The name must be unique within an AWS Region in your AWS account.\n",
    "endpoint_name = 'la-mia-prima-api-inferenza'\n",
    "\n",
    "create_endpoint_response = sagemaker_client.create_endpoint(\n",
    "                                            EndpointName=endpoint_name, \n",
    "                                            EndpointConfigName=endpoint_config_name)"
   ]
  },
  {
   "cell_type": "code",
   "execution_count": null,
   "id": "9ee8f06d",
   "metadata": {},
   "outputs": [],
   "source": []
  }
 ],
 "metadata": {
  "kernelspec": {
   "display_name": "conda_python3",
   "language": "python",
   "name": "conda_python3"
  },
  "language_info": {
   "codemirror_mode": {
    "name": "ipython",
    "version": 3
   },
   "file_extension": ".py",
   "mimetype": "text/x-python",
   "name": "python",
   "nbconvert_exporter": "python",
   "pygments_lexer": "ipython3",
   "version": "3.10.15"
  }
 },
 "nbformat": 4,
 "nbformat_minor": 5
}
